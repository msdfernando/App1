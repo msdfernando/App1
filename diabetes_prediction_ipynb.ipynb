{
  "metadata": {
    "kernelspec": {
      "language": "python",
      "display_name": "Python 3",
      "name": "python3"
    },
    "language_info": {
      "name": "python",
      "version": "3.10.13",
      "mimetype": "text/x-python",
      "codemirror_mode": {
        "name": "ipython",
        "version": 3
      },
      "pygments_lexer": "ipython3",
      "nbconvert_exporter": "python",
      "file_extension": ".py"
    },
    "kaggle": {
      "accelerator": "none",
      "dataSources": [
        {
          "sourceId": 8459745,
          "sourceType": "datasetVersion",
          "datasetId": 5042656
        }
      ],
      "dockerImageVersionId": 30698,
      "isInternetEnabled": false,
      "language": "python",
      "sourceType": "notebook",
      "isGpuEnabled": false
    },
    "colab": {
      "provenance": []
    }
  },
  "nbformat_minor": 0,
  "nbformat": 4,
  "cells": [
    {
      "cell_type": "code",
      "source": [
        "import numpy as np\n",
        "import pandas as pd\n",
        "from sklearn.preprocessing import StandardScaler\n",
        "from sklearn.model_selection import train_test_split\n",
        "from sklearn import svm\n",
        "from sklearn.metrics import accuracy_score"
      ],
      "metadata": {
        "_uuid": "8f2839f25d086af736a60e9eeb907d3b93b6e0e5",
        "_cell_guid": "b1076dfc-b9ad-4769-8c92-a6c4dae69d19",
        "execution": {
          "iopub.status.busy": "2024-05-19T15:43:12.076449Z",
          "iopub.execute_input": "2024-05-19T15:43:12.076871Z",
          "iopub.status.idle": "2024-05-19T15:43:12.083079Z",
          "shell.execute_reply.started": "2024-05-19T15:43:12.076837Z",
          "shell.execute_reply": "2024-05-19T15:43:12.081856Z"
        },
        "trusted": true,
        "id": "iJY-nrNpkSFb"
      },
      "execution_count": 35,
      "outputs": []
    },
    {
      "cell_type": "markdown",
      "source": [
        "Data Collection and Analysis\n",
        "\n",
        "Diabetes Dataset"
      ],
      "metadata": {
        "id": "TE0HTZZekSFd"
      }
    },
    {
      "cell_type": "code",
      "source": [
        "# loading the diabetes dataset to a pandas Dataframe\n",
        "diabetes_dataset = pd.read_csv('/content/diabetes.csv')"
      ],
      "metadata": {
        "execution": {
          "iopub.status.busy": "2024-05-19T16:14:24.171372Z",
          "iopub.execute_input": "2024-05-19T16:14:24.172474Z",
          "iopub.status.idle": "2024-05-19T16:14:24.182202Z",
          "shell.execute_reply.started": "2024-05-19T16:14:24.172431Z",
          "shell.execute_reply": "2024-05-19T16:14:24.181029Z"
        },
        "trusted": true,
        "id": "2ZdEBDu_kSFe"
      },
      "execution_count": 2,
      "outputs": []
    },
    {
      "cell_type": "code",
      "source": [
        "# printing the first 5 rows of the dataset\n",
        "print(diabetes_dataset.head())\n"
      ],
      "metadata": {
        "execution": {
          "iopub.status.busy": "2024-05-19T16:22:50.047580Z",
          "iopub.execute_input": "2024-05-19T16:22:50.048038Z",
          "iopub.status.idle": "2024-05-19T16:22:50.078965Z",
          "shell.execute_reply.started": "2024-05-19T16:22:50.048010Z",
          "shell.execute_reply": "2024-05-19T16:22:50.077715Z"
        },
        "trusted": true,
        "colab": {
          "base_uri": "https://localhost:8080/"
        },
        "id": "OR1eMmKrkSFe",
        "outputId": "49ce2b42-df03-423d-8472-0cbee2e8f3ea"
      },
      "execution_count": 36,
      "outputs": [
        {
          "output_type": "stream",
          "name": "stdout",
          "text": [
            "   Pregnancies  Glucose  BloodPressure  SkinThickness  Insulin   BMI  \\\n",
            "0            6      148             72             35        0  33.6   \n",
            "1            1       85             66             29        0  26.6   \n",
            "2            8      183             64              0        0  23.3   \n",
            "3            1       89             66             23       94  28.1   \n",
            "4            0      137             40             35      168  43.1   \n",
            "\n",
            "   DiabetesPedigreeFunction  Age  Outcome  \n",
            "0                     0.627   50        1  \n",
            "1                     0.351   31        0  \n",
            "2                     0.672   32        1  \n",
            "3                     0.167   21        0  \n",
            "4                     2.288   33        1  \n"
          ]
        }
      ]
    },
    {
      "cell_type": "code",
      "source": [
        "# number of rows columns in this dataset\n",
        "print(diabetes_dataset.shape)"
      ],
      "metadata": {
        "execution": {
          "iopub.status.busy": "2024-05-19T16:33:51.687682Z",
          "iopub.execute_input": "2024-05-19T16:33:51.689174Z",
          "iopub.status.idle": "2024-05-19T16:33:51.697025Z",
          "shell.execute_reply.started": "2024-05-19T16:33:51.689128Z",
          "shell.execute_reply": "2024-05-19T16:33:51.695586Z"
        },
        "trusted": true,
        "colab": {
          "base_uri": "https://localhost:8080/"
        },
        "id": "mDj403qjkSFf",
        "outputId": "e054ce77-eeb4-4bc8-f6b0-d150fb132129"
      },
      "execution_count": 37,
      "outputs": [
        {
          "output_type": "stream",
          "name": "stdout",
          "text": [
            "(768, 9)\n"
          ]
        }
      ]
    },
    {
      "cell_type": "code",
      "source": [
        "# getting the statistical measures of the data\n",
        "print(diabetes_dataset.describe())"
      ],
      "metadata": {
        "execution": {
          "iopub.status.busy": "2024-05-19T16:37:15.734317Z",
          "iopub.execute_input": "2024-05-19T16:37:15.734885Z",
          "iopub.status.idle": "2024-05-19T16:37:15.787145Z",
          "shell.execute_reply.started": "2024-05-19T16:37:15.734834Z",
          "shell.execute_reply": "2024-05-19T16:37:15.785758Z"
        },
        "trusted": true,
        "colab": {
          "base_uri": "https://localhost:8080/"
        },
        "id": "YrMP__FHkSFg",
        "outputId": "54bc178c-e7a4-4215-cc4c-073e7a596e5e"
      },
      "execution_count": 39,
      "outputs": [
        {
          "output_type": "stream",
          "name": "stdout",
          "text": [
            "       Pregnancies     Glucose  BloodPressure  SkinThickness     Insulin  \\\n",
            "count   768.000000  768.000000     768.000000     768.000000  768.000000   \n",
            "mean      3.845052  120.894531      69.105469      20.536458   79.799479   \n",
            "std       3.369578   31.972618      19.355807      15.952218  115.244002   \n",
            "min       0.000000    0.000000       0.000000       0.000000    0.000000   \n",
            "25%       1.000000   99.000000      62.000000       0.000000    0.000000   \n",
            "50%       3.000000  117.000000      72.000000      23.000000   30.500000   \n",
            "75%       6.000000  140.250000      80.000000      32.000000  127.250000   \n",
            "max      17.000000  199.000000     122.000000      99.000000  846.000000   \n",
            "\n",
            "              BMI  DiabetesPedigreeFunction         Age     Outcome  \n",
            "count  768.000000                768.000000  768.000000  768.000000  \n",
            "mean    31.992578                  0.471876   33.240885    0.348958  \n",
            "std      7.884160                  0.331329   11.760232    0.476951  \n",
            "min      0.000000                  0.078000   21.000000    0.000000  \n",
            "25%     27.300000                  0.243750   24.000000    0.000000  \n",
            "50%     32.000000                  0.372500   29.000000    0.000000  \n",
            "75%     36.600000                  0.626250   41.000000    1.000000  \n",
            "max     67.100000                  2.420000   81.000000    1.000000  \n"
          ]
        }
      ]
    },
    {
      "cell_type": "code",
      "source": [
        "print(diabetes_dataset['Outcome'].value_counts())"
      ],
      "metadata": {
        "execution": {
          "iopub.status.busy": "2024-05-19T16:44:53.273411Z",
          "iopub.execute_input": "2024-05-19T16:44:53.273895Z",
          "iopub.status.idle": "2024-05-19T16:44:53.289579Z",
          "shell.execute_reply.started": "2024-05-19T16:44:53.273846Z",
          "shell.execute_reply": "2024-05-19T16:44:53.287923Z"
        },
        "trusted": true,
        "colab": {
          "base_uri": "https://localhost:8080/"
        },
        "id": "9Zmolwq5kSFg",
        "outputId": "4fffefa1-a90a-45a5-dccd-202da61257c9"
      },
      "execution_count": 40,
      "outputs": [
        {
          "output_type": "stream",
          "name": "stdout",
          "text": [
            "Outcome\n",
            "0    500\n",
            "1    268\n",
            "Name: count, dtype: int64\n"
          ]
        }
      ]
    },
    {
      "cell_type": "markdown",
      "source": [
        "0->Non-Diabetic\n",
        "\n",
        "1->Diabetic"
      ],
      "metadata": {
        "id": "KH_7VBa9kSFg"
      }
    },
    {
      "cell_type": "code",
      "source": [
        "print(diabetes_dataset.groupby('Outcome').mean())"
      ],
      "metadata": {
        "execution": {
          "iopub.status.busy": "2024-05-19T16:47:58.258184Z",
          "iopub.execute_input": "2024-05-19T16:47:58.258654Z",
          "iopub.status.idle": "2024-05-19T16:47:58.285491Z",
          "shell.execute_reply.started": "2024-05-19T16:47:58.258621Z",
          "shell.execute_reply": "2024-05-19T16:47:58.283907Z"
        },
        "trusted": true,
        "colab": {
          "base_uri": "https://localhost:8080/"
        },
        "id": "D1Y3DWo_kSFg",
        "outputId": "9d2d66bc-909a-4d05-d778-48cbd86f624d"
      },
      "execution_count": 41,
      "outputs": [
        {
          "output_type": "stream",
          "name": "stdout",
          "text": [
            "         Pregnancies     Glucose  BloodPressure  SkinThickness     Insulin  \\\n",
            "Outcome                                                                      \n",
            "0           3.298000  109.980000      68.184000      19.664000   68.792000   \n",
            "1           4.865672  141.257463      70.824627      22.164179  100.335821   \n",
            "\n",
            "               BMI  DiabetesPedigreeFunction        Age  \n",
            "Outcome                                                  \n",
            "0        30.304200                  0.429734  31.190000  \n",
            "1        35.142537                  0.550500  37.067164  \n"
          ]
        }
      ]
    },
    {
      "cell_type": "code",
      "source": [
        "# separating the data and lables\n",
        "X = diabetes_dataset.drop(columns = 'Outcome', axis=1)\n",
        "Y = diabetes_dataset['Outcome']"
      ],
      "metadata": {
        "execution": {
          "iopub.status.busy": "2024-05-19T16:59:24.779948Z",
          "iopub.execute_input": "2024-05-19T16:59:24.780364Z",
          "iopub.status.idle": "2024-05-19T16:59:24.787932Z",
          "shell.execute_reply.started": "2024-05-19T16:59:24.780334Z",
          "shell.execute_reply": "2024-05-19T16:59:24.786772Z"
        },
        "trusted": true,
        "id": "bOvKhaR_kSFg"
      },
      "execution_count": 42,
      "outputs": []
    },
    {
      "cell_type": "code",
      "source": [
        "print(X)\n",
        "print(Y)"
      ],
      "metadata": {
        "execution": {
          "iopub.status.busy": "2024-05-19T17:00:15.074139Z",
          "iopub.execute_input": "2024-05-19T17:00:15.074618Z",
          "iopub.status.idle": "2024-05-19T17:00:15.087067Z",
          "shell.execute_reply.started": "2024-05-19T17:00:15.074582Z",
          "shell.execute_reply": "2024-05-19T17:00:15.086056Z"
        },
        "trusted": true,
        "colab": {
          "base_uri": "https://localhost:8080/"
        },
        "id": "hn2YubBkkSFh",
        "outputId": "6226707c-8f1e-416f-cfa8-da3c757e6f97"
      },
      "execution_count": 43,
      "outputs": [
        {
          "output_type": "stream",
          "name": "stdout",
          "text": [
            "     Pregnancies  Glucose  BloodPressure  SkinThickness  Insulin   BMI  \\\n",
            "0              6      148             72             35        0  33.6   \n",
            "1              1       85             66             29        0  26.6   \n",
            "2              8      183             64              0        0  23.3   \n",
            "3              1       89             66             23       94  28.1   \n",
            "4              0      137             40             35      168  43.1   \n",
            "..           ...      ...            ...            ...      ...   ...   \n",
            "763           10      101             76             48      180  32.9   \n",
            "764            2      122             70             27        0  36.8   \n",
            "765            5      121             72             23      112  26.2   \n",
            "766            1      126             60              0        0  30.1   \n",
            "767            1       93             70             31        0  30.4   \n",
            "\n",
            "     DiabetesPedigreeFunction  Age  \n",
            "0                       0.627   50  \n",
            "1                       0.351   31  \n",
            "2                       0.672   32  \n",
            "3                       0.167   21  \n",
            "4                       2.288   33  \n",
            "..                        ...  ...  \n",
            "763                     0.171   63  \n",
            "764                     0.340   27  \n",
            "765                     0.245   30  \n",
            "766                     0.349   47  \n",
            "767                     0.315   23  \n",
            "\n",
            "[768 rows x 8 columns]\n",
            "0      1\n",
            "1      0\n",
            "2      1\n",
            "3      0\n",
            "4      1\n",
            "      ..\n",
            "763    0\n",
            "764    0\n",
            "765    0\n",
            "766    1\n",
            "767    0\n",
            "Name: Outcome, Length: 768, dtype: int64\n"
          ]
        }
      ]
    },
    {
      "cell_type": "markdown",
      "source": [
        "Data Standardization"
      ],
      "metadata": {
        "id": "Zo25LJiBkSFh"
      }
    },
    {
      "cell_type": "code",
      "source": [
        "scaler = StandardScaler()"
      ],
      "metadata": {
        "execution": {
          "iopub.status.busy": "2024-05-19T17:09:34.655005Z",
          "iopub.execute_input": "2024-05-19T17:09:34.655547Z",
          "iopub.status.idle": "2024-05-19T17:09:34.661330Z",
          "shell.execute_reply.started": "2024-05-19T17:09:34.655512Z",
          "shell.execute_reply": "2024-05-19T17:09:34.660132Z"
        },
        "trusted": true,
        "id": "Pdho0FIykSFh"
      },
      "execution_count": 44,
      "outputs": []
    },
    {
      "cell_type": "code",
      "source": [
        "scaler.fit(X)"
      ],
      "metadata": {
        "execution": {
          "iopub.status.busy": "2024-05-19T17:10:26.849487Z",
          "iopub.execute_input": "2024-05-19T17:10:26.849981Z",
          "iopub.status.idle": "2024-05-19T17:10:26.865043Z",
          "shell.execute_reply.started": "2024-05-19T17:10:26.849948Z",
          "shell.execute_reply": "2024-05-19T17:10:26.863759Z"
        },
        "trusted": true,
        "colab": {
          "base_uri": "https://localhost:8080/",
          "height": 74
        },
        "id": "69essqTCkSFh",
        "outputId": "275dea40-fe60-4ef1-a787-26a3e3f0547e"
      },
      "execution_count": 45,
      "outputs": [
        {
          "output_type": "execute_result",
          "data": {
            "text/plain": [
              "StandardScaler()"
            ],
            "text/html": [
              "<style>#sk-container-id-3 {color: black;background-color: white;}#sk-container-id-3 pre{padding: 0;}#sk-container-id-3 div.sk-toggleable {background-color: white;}#sk-container-id-3 label.sk-toggleable__label {cursor: pointer;display: block;width: 100%;margin-bottom: 0;padding: 0.3em;box-sizing: border-box;text-align: center;}#sk-container-id-3 label.sk-toggleable__label-arrow:before {content: \"▸\";float: left;margin-right: 0.25em;color: #696969;}#sk-container-id-3 label.sk-toggleable__label-arrow:hover:before {color: black;}#sk-container-id-3 div.sk-estimator:hover label.sk-toggleable__label-arrow:before {color: black;}#sk-container-id-3 div.sk-toggleable__content {max-height: 0;max-width: 0;overflow: hidden;text-align: left;background-color: #f0f8ff;}#sk-container-id-3 div.sk-toggleable__content pre {margin: 0.2em;color: black;border-radius: 0.25em;background-color: #f0f8ff;}#sk-container-id-3 input.sk-toggleable__control:checked~div.sk-toggleable__content {max-height: 200px;max-width: 100%;overflow: auto;}#sk-container-id-3 input.sk-toggleable__control:checked~label.sk-toggleable__label-arrow:before {content: \"▾\";}#sk-container-id-3 div.sk-estimator input.sk-toggleable__control:checked~label.sk-toggleable__label {background-color: #d4ebff;}#sk-container-id-3 div.sk-label input.sk-toggleable__control:checked~label.sk-toggleable__label {background-color: #d4ebff;}#sk-container-id-3 input.sk-hidden--visually {border: 0;clip: rect(1px 1px 1px 1px);clip: rect(1px, 1px, 1px, 1px);height: 1px;margin: -1px;overflow: hidden;padding: 0;position: absolute;width: 1px;}#sk-container-id-3 div.sk-estimator {font-family: monospace;background-color: #f0f8ff;border: 1px dotted black;border-radius: 0.25em;box-sizing: border-box;margin-bottom: 0.5em;}#sk-container-id-3 div.sk-estimator:hover {background-color: #d4ebff;}#sk-container-id-3 div.sk-parallel-item::after {content: \"\";width: 100%;border-bottom: 1px solid gray;flex-grow: 1;}#sk-container-id-3 div.sk-label:hover label.sk-toggleable__label {background-color: #d4ebff;}#sk-container-id-3 div.sk-serial::before {content: \"\";position: absolute;border-left: 1px solid gray;box-sizing: border-box;top: 0;bottom: 0;left: 50%;z-index: 0;}#sk-container-id-3 div.sk-serial {display: flex;flex-direction: column;align-items: center;background-color: white;padding-right: 0.2em;padding-left: 0.2em;position: relative;}#sk-container-id-3 div.sk-item {position: relative;z-index: 1;}#sk-container-id-3 div.sk-parallel {display: flex;align-items: stretch;justify-content: center;background-color: white;position: relative;}#sk-container-id-3 div.sk-item::before, #sk-container-id-3 div.sk-parallel-item::before {content: \"\";position: absolute;border-left: 1px solid gray;box-sizing: border-box;top: 0;bottom: 0;left: 50%;z-index: -1;}#sk-container-id-3 div.sk-parallel-item {display: flex;flex-direction: column;z-index: 1;position: relative;background-color: white;}#sk-container-id-3 div.sk-parallel-item:first-child::after {align-self: flex-end;width: 50%;}#sk-container-id-3 div.sk-parallel-item:last-child::after {align-self: flex-start;width: 50%;}#sk-container-id-3 div.sk-parallel-item:only-child::after {width: 0;}#sk-container-id-3 div.sk-dashed-wrapped {border: 1px dashed gray;margin: 0 0.4em 0.5em 0.4em;box-sizing: border-box;padding-bottom: 0.4em;background-color: white;}#sk-container-id-3 div.sk-label label {font-family: monospace;font-weight: bold;display: inline-block;line-height: 1.2em;}#sk-container-id-3 div.sk-label-container {text-align: center;}#sk-container-id-3 div.sk-container {/* jupyter's `normalize.less` sets `[hidden] { display: none; }` but bootstrap.min.css set `[hidden] { display: none !important; }` so we also need the `!important` here to be able to override the default hidden behavior on the sphinx rendered scikit-learn.org. See: https://github.com/scikit-learn/scikit-learn/issues/21755 */display: inline-block !important;position: relative;}#sk-container-id-3 div.sk-text-repr-fallback {display: none;}</style><div id=\"sk-container-id-3\" class=\"sk-top-container\"><div class=\"sk-text-repr-fallback\"><pre>StandardScaler()</pre><b>In a Jupyter environment, please rerun this cell to show the HTML representation or trust the notebook. <br />On GitHub, the HTML representation is unable to render, please try loading this page with nbviewer.org.</b></div><div class=\"sk-container\" hidden><div class=\"sk-item\"><div class=\"sk-estimator sk-toggleable\"><input class=\"sk-toggleable__control sk-hidden--visually\" id=\"sk-estimator-id-3\" type=\"checkbox\" checked><label for=\"sk-estimator-id-3\" class=\"sk-toggleable__label sk-toggleable__label-arrow\">StandardScaler</label><div class=\"sk-toggleable__content\"><pre>StandardScaler()</pre></div></div></div></div></div>"
            ]
          },
          "metadata": {},
          "execution_count": 45
        }
      ]
    },
    {
      "cell_type": "code",
      "source": [
        "standardized_data = scaler.transform(X)"
      ],
      "metadata": {
        "execution": {
          "iopub.status.busy": "2024-05-19T17:15:17.629584Z",
          "iopub.execute_input": "2024-05-19T17:15:17.630080Z",
          "iopub.status.idle": "2024-05-19T17:15:17.637993Z",
          "shell.execute_reply.started": "2024-05-19T17:15:17.630044Z",
          "shell.execute_reply": "2024-05-19T17:15:17.636741Z"
        },
        "trusted": true,
        "id": "3ZkPrvYCkSFh"
      },
      "execution_count": 46,
      "outputs": []
    },
    {
      "cell_type": "code",
      "source": [
        "print(standardized_data)"
      ],
      "metadata": {
        "execution": {
          "iopub.status.busy": "2024-05-19T17:16:26.253845Z",
          "iopub.execute_input": "2024-05-19T17:16:26.254299Z",
          "iopub.status.idle": "2024-05-19T17:16:26.261268Z",
          "shell.execute_reply.started": "2024-05-19T17:16:26.254267Z",
          "shell.execute_reply": "2024-05-19T17:16:26.260243Z"
        },
        "trusted": true,
        "colab": {
          "base_uri": "https://localhost:8080/"
        },
        "id": "DuZi7I4zkSFh",
        "outputId": "2574414f-cd14-49e9-b077-d37423f4b855"
      },
      "execution_count": 47,
      "outputs": [
        {
          "output_type": "stream",
          "name": "stdout",
          "text": [
            "[[ 0.63994726  0.84832379  0.14964075 ...  0.20401277  0.46849198\n",
            "   1.4259954 ]\n",
            " [-0.84488505 -1.12339636 -0.16054575 ... -0.68442195 -0.36506078\n",
            "  -0.19067191]\n",
            " [ 1.23388019  1.94372388 -0.26394125 ... -1.10325546  0.60439732\n",
            "  -0.10558415]\n",
            " ...\n",
            " [ 0.3429808   0.00330087  0.14964075 ... -0.73518964 -0.68519336\n",
            "  -0.27575966]\n",
            " [-0.84488505  0.1597866  -0.47073225 ... -0.24020459 -0.37110101\n",
            "   1.17073215]\n",
            " [-0.84488505 -0.8730192   0.04624525 ... -0.20212881 -0.47378505\n",
            "  -0.87137393]]\n"
          ]
        }
      ]
    },
    {
      "cell_type": "code",
      "source": [
        "X = standardized_data\n",
        "print(X)\n",
        "print(Y)\n"
      ],
      "metadata": {
        "execution": {
          "iopub.status.busy": "2024-05-19T17:20:34.858640Z",
          "iopub.execute_input": "2024-05-19T17:20:34.859905Z",
          "iopub.status.idle": "2024-05-19T17:20:34.865600Z",
          "shell.execute_reply.started": "2024-05-19T17:20:34.859854Z",
          "shell.execute_reply": "2024-05-19T17:20:34.864276Z"
        },
        "trusted": true,
        "colab": {
          "base_uri": "https://localhost:8080/"
        },
        "id": "9MhlQcFNkSFi",
        "outputId": "a711a551-0fce-47e3-ea45-6917be55e08f"
      },
      "execution_count": 50,
      "outputs": [
        {
          "output_type": "stream",
          "name": "stdout",
          "text": [
            "[[ 0.63994726  0.84832379  0.14964075 ...  0.20401277  0.46849198\n",
            "   1.4259954 ]\n",
            " [-0.84488505 -1.12339636 -0.16054575 ... -0.68442195 -0.36506078\n",
            "  -0.19067191]\n",
            " [ 1.23388019  1.94372388 -0.26394125 ... -1.10325546  0.60439732\n",
            "  -0.10558415]\n",
            " ...\n",
            " [ 0.3429808   0.00330087  0.14964075 ... -0.73518964 -0.68519336\n",
            "  -0.27575966]\n",
            " [-0.84488505  0.1597866  -0.47073225 ... -0.24020459 -0.37110101\n",
            "   1.17073215]\n",
            " [-0.84488505 -0.8730192   0.04624525 ... -0.20212881 -0.47378505\n",
            "  -0.87137393]]\n",
            "0      1\n",
            "1      0\n",
            "2      1\n",
            "3      0\n",
            "4      1\n",
            "      ..\n",
            "763    0\n",
            "764    0\n",
            "765    0\n",
            "766    1\n",
            "767    0\n",
            "Name: Outcome, Length: 768, dtype: int64\n"
          ]
        }
      ]
    },
    {
      "cell_type": "markdown",
      "source": [
        "Train Test Split"
      ],
      "metadata": {
        "id": "_dfV7LlVkSFi"
      }
    },
    {
      "cell_type": "code",
      "source": [
        "X_train, X_test, Y_train, Y_test = train_test_split(X, Y, test_size=0.2, stratify=Y, random_state=2)"
      ],
      "metadata": {
        "execution": {
          "iopub.status.busy": "2024-05-19T17:37:29.115060Z",
          "iopub.execute_input": "2024-05-19T17:37:29.115523Z",
          "iopub.status.idle": "2024-05-19T17:37:29.127954Z",
          "shell.execute_reply.started": "2024-05-19T17:37:29.115488Z",
          "shell.execute_reply": "2024-05-19T17:37:29.126523Z"
        },
        "trusted": true,
        "id": "_xnzFOp6kSFi"
      },
      "execution_count": 52,
      "outputs": []
    },
    {
      "cell_type": "code",
      "source": [
        "print(X.shape, X_train.shape, X_test.shape)"
      ],
      "metadata": {
        "execution": {
          "iopub.status.busy": "2024-05-19T17:39:20.673768Z",
          "iopub.execute_input": "2024-05-19T17:39:20.674258Z",
          "iopub.status.idle": "2024-05-19T17:39:20.681148Z",
          "shell.execute_reply.started": "2024-05-19T17:39:20.674226Z",
          "shell.execute_reply": "2024-05-19T17:39:20.679879Z"
        },
        "trusted": true,
        "colab": {
          "base_uri": "https://localhost:8080/"
        },
        "id": "zRxzR5PfkSFi",
        "outputId": "27a62dbf-f99b-4e68-86fe-1bcf5bf4f741"
      },
      "execution_count": 53,
      "outputs": [
        {
          "output_type": "stream",
          "name": "stdout",
          "text": [
            "(768, 8) (614, 8) (154, 8)\n"
          ]
        }
      ]
    },
    {
      "cell_type": "markdown",
      "source": [
        "Training the Model"
      ],
      "metadata": {
        "id": "oZD9cWbCkSFi"
      }
    },
    {
      "cell_type": "code",
      "source": [
        "classifier = svm.SVC(kernel='linear')"
      ],
      "metadata": {
        "execution": {
          "iopub.status.busy": "2024-05-19T17:41:48.148991Z",
          "iopub.execute_input": "2024-05-19T17:41:48.149423Z",
          "iopub.status.idle": "2024-05-19T17:41:48.155217Z",
          "shell.execute_reply.started": "2024-05-19T17:41:48.149394Z",
          "shell.execute_reply": "2024-05-19T17:41:48.153787Z"
        },
        "trusted": true,
        "id": "1MrBRayukSFi"
      },
      "execution_count": 54,
      "outputs": []
    },
    {
      "cell_type": "code",
      "source": [
        "#training the support vector Machine Classifier\n",
        "classifier.fit(X_train, Y_train)"
      ],
      "metadata": {
        "execution": {
          "iopub.status.busy": "2024-05-19T17:55:30.687844Z",
          "iopub.execute_input": "2024-05-19T17:55:30.688330Z",
          "iopub.status.idle": "2024-05-19T17:55:30.716579Z",
          "shell.execute_reply.started": "2024-05-19T17:55:30.688284Z",
          "shell.execute_reply": "2024-05-19T17:55:30.715000Z"
        },
        "trusted": true,
        "colab": {
          "base_uri": "https://localhost:8080/",
          "height": 74
        },
        "id": "T_z4pHgvkSFi",
        "outputId": "da15fb89-32da-4541-a055-8f76a01eedfa"
      },
      "execution_count": 55,
      "outputs": [
        {
          "output_type": "execute_result",
          "data": {
            "text/plain": [
              "SVC(kernel='linear')"
            ],
            "text/html": [
              "<style>#sk-container-id-4 {color: black;background-color: white;}#sk-container-id-4 pre{padding: 0;}#sk-container-id-4 div.sk-toggleable {background-color: white;}#sk-container-id-4 label.sk-toggleable__label {cursor: pointer;display: block;width: 100%;margin-bottom: 0;padding: 0.3em;box-sizing: border-box;text-align: center;}#sk-container-id-4 label.sk-toggleable__label-arrow:before {content: \"▸\";float: left;margin-right: 0.25em;color: #696969;}#sk-container-id-4 label.sk-toggleable__label-arrow:hover:before {color: black;}#sk-container-id-4 div.sk-estimator:hover label.sk-toggleable__label-arrow:before {color: black;}#sk-container-id-4 div.sk-toggleable__content {max-height: 0;max-width: 0;overflow: hidden;text-align: left;background-color: #f0f8ff;}#sk-container-id-4 div.sk-toggleable__content pre {margin: 0.2em;color: black;border-radius: 0.25em;background-color: #f0f8ff;}#sk-container-id-4 input.sk-toggleable__control:checked~div.sk-toggleable__content {max-height: 200px;max-width: 100%;overflow: auto;}#sk-container-id-4 input.sk-toggleable__control:checked~label.sk-toggleable__label-arrow:before {content: \"▾\";}#sk-container-id-4 div.sk-estimator input.sk-toggleable__control:checked~label.sk-toggleable__label {background-color: #d4ebff;}#sk-container-id-4 div.sk-label input.sk-toggleable__control:checked~label.sk-toggleable__label {background-color: #d4ebff;}#sk-container-id-4 input.sk-hidden--visually {border: 0;clip: rect(1px 1px 1px 1px);clip: rect(1px, 1px, 1px, 1px);height: 1px;margin: -1px;overflow: hidden;padding: 0;position: absolute;width: 1px;}#sk-container-id-4 div.sk-estimator {font-family: monospace;background-color: #f0f8ff;border: 1px dotted black;border-radius: 0.25em;box-sizing: border-box;margin-bottom: 0.5em;}#sk-container-id-4 div.sk-estimator:hover {background-color: #d4ebff;}#sk-container-id-4 div.sk-parallel-item::after {content: \"\";width: 100%;border-bottom: 1px solid gray;flex-grow: 1;}#sk-container-id-4 div.sk-label:hover label.sk-toggleable__label {background-color: #d4ebff;}#sk-container-id-4 div.sk-serial::before {content: \"\";position: absolute;border-left: 1px solid gray;box-sizing: border-box;top: 0;bottom: 0;left: 50%;z-index: 0;}#sk-container-id-4 div.sk-serial {display: flex;flex-direction: column;align-items: center;background-color: white;padding-right: 0.2em;padding-left: 0.2em;position: relative;}#sk-container-id-4 div.sk-item {position: relative;z-index: 1;}#sk-container-id-4 div.sk-parallel {display: flex;align-items: stretch;justify-content: center;background-color: white;position: relative;}#sk-container-id-4 div.sk-item::before, #sk-container-id-4 div.sk-parallel-item::before {content: \"\";position: absolute;border-left: 1px solid gray;box-sizing: border-box;top: 0;bottom: 0;left: 50%;z-index: -1;}#sk-container-id-4 div.sk-parallel-item {display: flex;flex-direction: column;z-index: 1;position: relative;background-color: white;}#sk-container-id-4 div.sk-parallel-item:first-child::after {align-self: flex-end;width: 50%;}#sk-container-id-4 div.sk-parallel-item:last-child::after {align-self: flex-start;width: 50%;}#sk-container-id-4 div.sk-parallel-item:only-child::after {width: 0;}#sk-container-id-4 div.sk-dashed-wrapped {border: 1px dashed gray;margin: 0 0.4em 0.5em 0.4em;box-sizing: border-box;padding-bottom: 0.4em;background-color: white;}#sk-container-id-4 div.sk-label label {font-family: monospace;font-weight: bold;display: inline-block;line-height: 1.2em;}#sk-container-id-4 div.sk-label-container {text-align: center;}#sk-container-id-4 div.sk-container {/* jupyter's `normalize.less` sets `[hidden] { display: none; }` but bootstrap.min.css set `[hidden] { display: none !important; }` so we also need the `!important` here to be able to override the default hidden behavior on the sphinx rendered scikit-learn.org. See: https://github.com/scikit-learn/scikit-learn/issues/21755 */display: inline-block !important;position: relative;}#sk-container-id-4 div.sk-text-repr-fallback {display: none;}</style><div id=\"sk-container-id-4\" class=\"sk-top-container\"><div class=\"sk-text-repr-fallback\"><pre>SVC(kernel=&#x27;linear&#x27;)</pre><b>In a Jupyter environment, please rerun this cell to show the HTML representation or trust the notebook. <br />On GitHub, the HTML representation is unable to render, please try loading this page with nbviewer.org.</b></div><div class=\"sk-container\" hidden><div class=\"sk-item\"><div class=\"sk-estimator sk-toggleable\"><input class=\"sk-toggleable__control sk-hidden--visually\" id=\"sk-estimator-id-4\" type=\"checkbox\" checked><label for=\"sk-estimator-id-4\" class=\"sk-toggleable__label sk-toggleable__label-arrow\">SVC</label><div class=\"sk-toggleable__content\"><pre>SVC(kernel=&#x27;linear&#x27;)</pre></div></div></div></div></div>"
            ]
          },
          "metadata": {},
          "execution_count": 55
        }
      ]
    },
    {
      "cell_type": "markdown",
      "source": [
        "Model Evaluation\n",
        "\n",
        "Accuracy Score"
      ],
      "metadata": {
        "id": "JkkoEyeJkSFi"
      }
    },
    {
      "cell_type": "code",
      "source": [
        "# accuracy score on the training data\n",
        "X_train_prediction = classifier.predict(X_train)\n",
        "training_data_accuracy = accuracy_score(X_train_prediction, Y_train)"
      ],
      "metadata": {
        "execution": {
          "iopub.status.busy": "2024-05-20T09:50:50.768618Z",
          "iopub.execute_input": "2024-05-20T09:50:50.769034Z",
          "iopub.status.idle": "2024-05-20T09:50:50.798214Z",
          "shell.execute_reply.started": "2024-05-20T09:50:50.769006Z",
          "shell.execute_reply": "2024-05-20T09:50:50.796693Z"
        },
        "trusted": true,
        "id": "TfGvrjK-kSFj"
      },
      "execution_count": 56,
      "outputs": []
    },
    {
      "cell_type": "code",
      "source": [
        "print('Accuracy score of the training data : ', training_data_accuracy)"
      ],
      "metadata": {
        "execution": {
          "iopub.status.busy": "2024-05-20T09:53:41.005522Z",
          "iopub.execute_input": "2024-05-20T09:53:41.005984Z",
          "iopub.status.idle": "2024-05-20T09:53:41.038489Z",
          "shell.execute_reply.started": "2024-05-20T09:53:41.005950Z",
          "shell.execute_reply": "2024-05-20T09:53:41.036599Z"
        },
        "trusted": true,
        "colab": {
          "base_uri": "https://localhost:8080/"
        },
        "id": "HOqUlLqmkSFj",
        "outputId": "334c8bfa-1d04-41e9-b733-27d199f458ce"
      },
      "execution_count": 57,
      "outputs": [
        {
          "output_type": "stream",
          "name": "stdout",
          "text": [
            "Accuracy score of the training data :  0.7866449511400652\n"
          ]
        }
      ]
    },
    {
      "cell_type": "code",
      "source": [
        "# accuracy score on the test data\n",
        "X_test_prediction = classifier.predict(X_test)\n",
        "test_data_accuracy = accuracy_score(X_test_prediction, Y_test)"
      ],
      "metadata": {
        "execution": {
          "iopub.status.busy": "2024-05-20T04:45:12.008654Z",
          "iopub.execute_input": "2024-05-20T04:45:12.009296Z",
          "iopub.status.idle": "2024-05-20T04:45:12.030912Z",
          "shell.execute_reply.started": "2024-05-20T04:45:12.009262Z",
          "shell.execute_reply": "2024-05-20T04:45:12.029660Z"
        },
        "trusted": true,
        "id": "azpFh5-akSFj"
      },
      "execution_count": 58,
      "outputs": []
    },
    {
      "cell_type": "code",
      "source": [
        "print('Accuracy score of the test data : ', test_data_accuracy)"
      ],
      "metadata": {
        "execution": {
          "iopub.status.busy": "2024-05-20T04:42:47.483826Z",
          "iopub.execute_input": "2024-05-20T04:42:47.484255Z",
          "iopub.status.idle": "2024-05-20T04:42:47.507779Z",
          "shell.execute_reply.started": "2024-05-20T04:42:47.484221Z",
          "shell.execute_reply": "2024-05-20T04:42:47.506350Z"
        },
        "trusted": true,
        "colab": {
          "base_uri": "https://localhost:8080/"
        },
        "id": "mNswniYCkSFj",
        "outputId": "7afe7907-16e1-4b09-e153-de03c36cfe53"
      },
      "execution_count": 59,
      "outputs": [
        {
          "output_type": "stream",
          "name": "stdout",
          "text": [
            "Accuracy score of the test data :  0.7727272727272727\n"
          ]
        }
      ]
    },
    {
      "cell_type": "markdown",
      "source": [
        "Making a Predictive System"
      ],
      "metadata": {
        "id": "HW_XfZ0_kSFj"
      }
    },
    {
      "cell_type": "code",
      "source": [
        "# Making a Predictive System\n",
        "input_data = (4, 110, 92, 0, 0, 37.6, 0.191, 30)"
      ],
      "metadata": {
        "id": "Rwts0iZMnsKV"
      },
      "execution_count": 68,
      "outputs": []
    },
    {
      "cell_type": "code",
      "source": [
        "# changing the input_data to numpy array\n",
        "input_data_as_numpy_array = np.asarray(input_data)"
      ],
      "metadata": {
        "id": "KC8cRRzooJHw"
      },
      "execution_count": 69,
      "outputs": []
    },
    {
      "cell_type": "code",
      "source": [
        "input_data_reshaped = input_data_as_numpy_array.reshape(1, -1)"
      ],
      "metadata": {
        "id": "XRDHamIzuuWM"
      },
      "execution_count": 70,
      "outputs": []
    },
    {
      "cell_type": "code",
      "source": [
        "# standardize the input data\n",
        "std_data = scaler.transform(input_data_reshaped)\n",
        "print(std_data)\n",
        "\n",
        "prediction = classifier.predict(std_data)\n",
        "print(prediction)\n",
        "\n",
        "if (prediction[0] == 0):\n",
        "    print('The person is not diabetic')\n",
        "else:\n",
        "    print('The person is diabetic')"
      ],
      "metadata": {
        "id": "jlF9zhxnoRc3",
        "outputId": "7e8eb5a9-53df-476f-d6d9-bd2405253002",
        "colab": {
          "base_uri": "https://localhost:8080/"
        }
      },
      "execution_count": 71,
      "outputs": [
        {
          "output_type": "stream",
          "name": "stdout",
          "text": [
            "[[ 0.04601433 -0.34096773  1.18359575 -1.28821221 -0.69289057  0.71168975\n",
            "  -0.84827977 -0.27575966]]\n",
            "[0]\n",
            "The person is not diabetic\n"
          ]
        },
        {
          "output_type": "stream",
          "name": "stderr",
          "text": [
            "/usr/local/lib/python3.10/dist-packages/sklearn/base.py:439: UserWarning: X does not have valid feature names, but StandardScaler was fitted with feature names\n",
            "  warnings.warn(\n"
          ]
        }
      ]
    }
  ]
}